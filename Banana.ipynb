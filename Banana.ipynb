{
 "cells": [
  {
   "cell_type": "code",
   "execution_count": 4,
   "metadata": {},
   "outputs": [],
   "source": [
    "import math\n",
    "import numpy as np\n",
    "from fractions import Fraction"
   ]
  },
  {
   "cell_type": "code",
   "execution_count": 159,
   "metadata": {},
   "outputs": [],
   "source": [
    "def double_eca(P,a,b):\n",
    "    x=P[0]\n",
    "    y=P[1]\n",
    "    z=P[2]\n",
    "    X = Fraction(x,z)\n",
    "    Y = Fraction(y,z)\n",
    "    \n",
    "    mu = Fraction((3*(X**2) + a),(2*Y))    \n",
    "    Xd = (mu**2) - 2*X\n",
    "    Yd = mu*(X - Xd) - Y\n",
    "    theta = lcm(Xd.denominator, Yd.denominator)\n",
    "    res=[theta*Xd, theta*Yd, theta]\n",
    "    return([a.numerator for a in list(res)])\n",
    "\n",
    "def sum_eca(P1,P2,a,b):\n",
    "    X1 = Fraction(P1[0],P1[2])\n",
    "    Y1 = Fraction(P1[1],P1[2])\n",
    "    X2 = Fraction(P2[0],P2[2])\n",
    "    Y2 = Fraction(P2[1],P2[2])\n",
    "    mu = Fraction((Y2 - Y1),(X2 - X1))\n",
    "    Xs = (mu**2) - X1 - X2\n",
    "    Ys = mu*(X1 - Xs) - Y1\n",
    "    theta = lcm(Xs.denominator, Ys.denominator)\n",
    "    res = [theta*Xs, theta*Ys, theta]\n",
    "    return([a.numerator for a in list(res)])\n",
    "\n",
    "def lcm(a, b):\n",
    "    return(abs(a*b) // math.gcd(a, b))\n",
    "\n",
    "def f(A):\n",
    "    res=[570*A[0] + 570*A[1] - 277*A[2], \n",
    "         1092*(A[0] - A[1]), \n",
    "         3*(6*A[0] + 6*A[1] - A[2])]\n",
    "    return(res)\n",
    "\n",
    "def f_inv(P):\n",
    "    return([-3*P[0] + 3*P[1] + 277*P[2], \n",
    "                     -3*P[0] - 3*P[1] + 277*P[2], \n",
    "                     -36*P[0] + 1140*P[2]])\n",
    "\n",
    "def banana(A):\n",
    "    return(A[0]*(A[0] + A[2])*(A[0] + A[1]) + \n",
    "               A[1]*(A[2] + A[1])*(A[0] + A[1]) + \n",
    "               A[2]*(A[2] + A[1])*(A[2] + A[0]) - \n",
    "               4*(A[0] + A[1])*(A[1] + A[2])*(A[2] + A[0]))\n",
    "    \n",
    "def ec(P):\n",
    "    return(Fraction(2370314,27)*(P[2]**3) - Fraction(11209,3)*(P[0]*(P[2]**2)) + (P[0]**3) - (P[1]**2)*P[2])"
   ]
  },
  {
   "cell_type": "code",
   "execution_count": 148,
   "metadata": {},
   "outputs": [
    {
     "name": "stdout",
     "output_type": "stream",
     "text": [
      "[-11  -9   5]\n",
      "[-11  -4   1]\n",
      "[-11   1  -4]\n",
      "[-11   5  -9]\n",
      "[ -9 -11   5]\n",
      "[ -9   5 -11]\n",
      "[-5  9 11]\n",
      "[-5 11  9]\n",
      "[ -4 -11   1]\n",
      "[ -4   1 -11]\n",
      "[-1  4 11]\n",
      "[-1 11  4]\n",
      "[  1 -11  -4]\n",
      "[  1  -4 -11]\n",
      "[ 4 -1 11]\n",
      "[ 4 11 -1]\n",
      "[  5 -11  -9]\n",
      "[  5  -9 -11]\n",
      "[ 9 -5 11]\n",
      "[ 9 11 -5]\n",
      "[11 -5  9]\n",
      "[11 -1  4]\n",
      "[11  4 -1]\n",
      "[11  9 -5]\n"
     ]
    }
   ],
   "source": [
    "## Find one point\n",
    "\n",
    "n=12\n",
    "for a in np.arange(-n,n):\n",
    "    for b in np.arange(-n,n):\n",
    "        for c in np.arange(-n,n):\n",
    "            A=np.array([a,b,c],dtype=int)\n",
    "            if((banana(A)==0) and (a+b)!=0 and (b+c)!=0 and (a+c)!=0):\n",
    "                print(A)\n"
   ]
  },
  {
   "cell_type": "code",
   "execution_count": 180,
   "metadata": {},
   "outputs": [
    {
     "name": "stdout",
     "output_type": "stream",
     "text": [
      "A: [1, -4, -11]\n",
      "banana(A): 0\n",
      "P=f(A): [1337, 5460, -21]\n",
      "elliptic curve(P): 0\n"
     ]
    }
   ],
   "source": [
    "## define one point P on the elliptic curve\n",
    "A = [1,-4,-11]\n",
    "P=f(A)\n",
    "\n",
    "print(\"A: \" + str(A))\n",
    "print(\"banana(A): \" + str(banana(A)))\n",
    "print(\"P=f(A): \" + str(P))\n",
    "print(\"elliptic curve(P): \" + str(ec(P)))"
   ]
  },
  {
   "cell_type": "code",
   "execution_count": 182,
   "metadata": {},
   "outputs": [],
   "source": [
    "## compute n * P\n",
    "a = Fraction(-11209,3)\n",
    "b = Fraction(2370314,27)\n",
    "\n",
    "P_dict={}\n",
    "P_dict[1]=P\n",
    "P_dict[2]=double_eca(P_dict[1],a,b)\n",
    "\n",
    "nmax=30\n",
    "for i in np.arange(3,nmax):\n",
    "    if i%2==1:\n",
    "        P_dict[i] = sum_eca(P_dict[(i-1)//2],P_dict[((i-1)//2)+1],a,b)\n",
    "    if i%2==0:\n",
    "        P_dict[i] = double_eca(P_dict[i//2],a,b)"
   ]
  },
  {
   "cell_type": "code",
   "execution_count": 185,
   "metadata": {},
   "outputs": [
    {
     "name": "stdout",
     "output_type": "stream",
     "text": [
      "==================================================\n",
      "[331876186147169998444780304087029273429436819720747738966548237244735021706500211, 1390291218978715497977561835179278537370978931026088885300239714084278818317501991, 39362514101358275320751273421342511375348838023454522567592941940405811209948324]\n",
      "==================================================\n",
      "[8790444378053931778556581817259350485782036948208565429931789202181056133423594441105493572533350308536735981793365302089094732619463681192753891297910026892438724896761005237912933721504797085335946025374516920334747669805741375171012088366289285635463241715368735442363152418638876890784, 1348171706606506098705905523944234895834205707206225487797440150495186180509956177161676173486361152522097761949584437051597622159238666533260615715023514760993093552172415061466366538801741528441396539169854695219480877223192734481987981888930762722460063617827997101284157519060253330744, 986740730991393122654219614384577867495326404083518750202233585557506665136905653897997785682342930890023446680244298794033362936630437830378303119152675594707153903072899649572062368757080194644552798517659280059475170440213363351305683898546139212494789317698638873665426596794475592536]\n"
     ]
    }
   ],
   "source": [
    "A_list = [f_inv(P) for P in list(P_dict.values())]\n",
    "for A in A_list:\n",
    "    if A[0]>0 and A[1]>0 and A[2]>0:\n",
    "        print(\"=\"*50)\n",
    "        print(A)"
   ]
  },
  {
   "cell_type": "code",
   "execution_count": null,
   "metadata": {},
   "outputs": [],
   "source": []
  }
 ],
 "metadata": {
  "kernelspec": {
   "display_name": "Python 3",
   "language": "python",
   "name": "python3"
  },
  "language_info": {
   "codemirror_mode": {
    "name": "ipython",
    "version": 3
   },
   "file_extension": ".py",
   "mimetype": "text/x-python",
   "name": "python",
   "nbconvert_exporter": "python",
   "pygments_lexer": "ipython3",
   "version": "3.7.3"
  }
 },
 "nbformat": 4,
 "nbformat_minor": 2
}
